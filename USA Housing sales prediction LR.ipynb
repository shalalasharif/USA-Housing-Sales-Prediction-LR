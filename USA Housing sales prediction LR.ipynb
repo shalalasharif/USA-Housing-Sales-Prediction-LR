{
 "cells": [
  {
   "cell_type": "code",
   "execution_count": 1,
   "id": "921241e5",
   "metadata": {},
   "outputs": [],
   "source": [
    "import pandas as pd\n",
    "import numpy as np\n",
    "import sklearn"
   ]
  },
  {
   "cell_type": "code",
   "execution_count": 2,
   "id": "3c43bde5",
   "metadata": {},
   "outputs": [],
   "source": [
    "Data1=pd.read_csv(\"USA_housing.csv\")"
   ]
  },
  {
   "cell_type": "code",
   "execution_count": 3,
   "id": "4477fcc8",
   "metadata": {},
   "outputs": [],
   "source": [
    "Data2=Data1.copy()"
   ]
  },
  {
   "cell_type": "code",
   "execution_count": 4,
   "id": "4f75b0b4",
   "metadata": {},
   "outputs": [
    {
     "name": "stdout",
     "output_type": "stream",
     "text": [
      "<class 'pandas.core.frame.DataFrame'>\n",
      "RangeIndex: 5000 entries, 0 to 4999\n",
      "Data columns (total 7 columns):\n",
      " #   Column                        Non-Null Count  Dtype  \n",
      "---  ------                        --------------  -----  \n",
      " 0   Avg. Area Income              5000 non-null   float64\n",
      " 1   Avg. Area House Age           5000 non-null   float64\n",
      " 2   Avg. Area Number of Rooms     5000 non-null   float64\n",
      " 3   Avg. Area Number of Bedrooms  5000 non-null   float64\n",
      " 4   Area Population               5000 non-null   float64\n",
      " 5   Price                         5000 non-null   float64\n",
      " 6   Address                       5000 non-null   object \n",
      "dtypes: float64(6), object(1)\n",
      "memory usage: 273.6+ KB\n"
     ]
    }
   ],
   "source": [
    "Data2.info()"
   ]
  },
  {
   "cell_type": "code",
   "execution_count": 5,
   "id": "8caabf32",
   "metadata": {},
   "outputs": [],
   "source": [
    "Data2.drop(\"Address\",axis=1,inplace=True)"
   ]
  },
  {
   "cell_type": "code",
   "execution_count": 6,
   "id": "d9e19b7b",
   "metadata": {},
   "outputs": [
    {
     "data": {
      "text/plain": [
       "Avg. Area Income                0\n",
       "Avg. Area House Age             0\n",
       "Avg. Area Number of Rooms       0\n",
       "Avg. Area Number of Bedrooms    0\n",
       "Area Population                 0\n",
       "Price                           0\n",
       "dtype: int64"
      ]
     },
     "execution_count": 6,
     "metadata": {},
     "output_type": "execute_result"
    }
   ],
   "source": [
    "Data2.isnull().sum()"
   ]
  },
  {
   "cell_type": "code",
   "execution_count": 7,
   "id": "34419157",
   "metadata": {},
   "outputs": [],
   "source": [
    "import seaborn as sns"
   ]
  },
  {
   "cell_type": "code",
   "execution_count": 8,
   "id": "e18d277a",
   "metadata": {},
   "outputs": [
    {
     "data": {
      "text/plain": [
       "<AxesSubplot:>"
      ]
     },
     "execution_count": 8,
     "metadata": {},
     "output_type": "execute_result"
    },
    {
     "data": {
      "image/png": "[encoded data removed]",
      "text/plain": [
       "<Figure size 432x288 with 1 Axes>"
      ]
     },
     "metadata": {
      "needs_background": "light"
     },
     "output_type": "display_data"
    }
   ],
   "source": [
    "sns.boxplot(data=Data2[Data2.columns], orient=\"h\")"
   ]
  },
  {
   "cell_type": "code",
   "execution_count": 9,
   "id": "93bfd0a7",
   "metadata": {},
   "outputs": [
    {
     "data": {
      "text/plain": [
       "<AxesSubplot:>"
      ]
     },
     "execution_count": 9,
     "metadata": {},
     "output_type": "execute_result"
    },
    {
     "data": {
      "image/png": "[encoded data removed]",
      "text/plain": [
       "<Figure size 432x288 with 1 Axes>"
      ]
     },
     "metadata": {
      "needs_background": "light"
     },
     "output_type": "display_data"
    }
   ],
   "source": [
    "sns.boxplot(data=Data2[\"Avg. Area Income\"], orient=\"h\")"
   ]
  },
  {
   "cell_type": "code",
   "execution_count": 10,
   "id": "0f1ca2d5",
   "metadata": {},
   "outputs": [
    {
     "data": {
      "text/html": [
       "<div>\n",
       "<style scoped>\n",
       "    .dataframe tbody tr th:only-of-type {\n",
       "        vertical-align: middle;\n",
       "    }\n",
       "\n",
       "    .dataframe tbody tr th {\n",
       "        vertical-align: top;\n",
       "    }\n",
       "\n",
       "    .dataframe thead th {\n",
       "        text-align: right;\n",
       "    }\n",
       "</style>\n",
       "<table border=\"1\" class=\"dataframe\">\n",
       "  <thead>\n",
       "    <tr style=\"text-align: right;\">\n",
       "      <th></th>\n",
       "      <th>Avg. Area Income</th>\n",
       "      <th>Avg. Area House Age</th>\n",
       "      <th>Avg. Area Number of Rooms</th>\n",
       "      <th>Avg. Area Number of Bedrooms</th>\n",
       "      <th>Area Population</th>\n",
       "      <th>Price</th>\n",
       "    </tr>\n",
       "  </thead>\n",
       "  <tbody>\n",
       "    <tr>\n",
       "      <th>0</th>\n",
       "      <td>79545.458574</td>\n",
       "      <td>5.682861</td>\n",
       "      <td>7.009188</td>\n",
       "      <td>4.09</td>\n",
       "      <td>23086.800503</td>\n",
       "      <td>1.059034e+06</td>\n",
       "    </tr>\n",
       "    <tr>\n",
       "      <th>1</th>\n",
       "      <td>79248.642455</td>\n",
       "      <td>6.002900</td>\n",
       "      <td>6.730821</td>\n",
       "      <td>3.09</td>\n",
       "      <td>40173.072174</td>\n",
       "      <td>1.505891e+06</td>\n",
       "    </tr>\n",
       "    <tr>\n",
       "      <th>2</th>\n",
       "      <td>61287.067179</td>\n",
       "      <td>5.865890</td>\n",
       "      <td>8.512727</td>\n",
       "      <td>5.13</td>\n",
       "      <td>36882.159400</td>\n",
       "      <td>1.058988e+06</td>\n",
       "    </tr>\n",
       "    <tr>\n",
       "      <th>3</th>\n",
       "      <td>63345.240046</td>\n",
       "      <td>7.188236</td>\n",
       "      <td>5.586729</td>\n",
       "      <td>3.26</td>\n",
       "      <td>34310.242831</td>\n",
       "      <td>1.260617e+06</td>\n",
       "    </tr>\n",
       "    <tr>\n",
       "      <th>4</th>\n",
       "      <td>59982.197226</td>\n",
       "      <td>5.040555</td>\n",
       "      <td>7.839388</td>\n",
       "      <td>4.23</td>\n",
       "      <td>26354.109472</td>\n",
       "      <td>6.309435e+05</td>\n",
       "    </tr>\n",
       "    <tr>\n",
       "      <th>...</th>\n",
       "      <td>...</td>\n",
       "      <td>...</td>\n",
       "      <td>...</td>\n",
       "      <td>...</td>\n",
       "      <td>...</td>\n",
       "      <td>...</td>\n",
       "    </tr>\n",
       "    <tr>\n",
       "      <th>4995</th>\n",
       "      <td>60567.944140</td>\n",
       "      <td>7.830362</td>\n",
       "      <td>6.137356</td>\n",
       "      <td>3.46</td>\n",
       "      <td>22837.361035</td>\n",
       "      <td>1.060194e+06</td>\n",
       "    </tr>\n",
       "    <tr>\n",
       "      <th>4996</th>\n",
       "      <td>78491.275435</td>\n",
       "      <td>6.999135</td>\n",
       "      <td>6.576763</td>\n",
       "      <td>4.02</td>\n",
       "      <td>25616.115489</td>\n",
       "      <td>1.482618e+06</td>\n",
       "    </tr>\n",
       "    <tr>\n",
       "      <th>4997</th>\n",
       "      <td>63390.686886</td>\n",
       "      <td>7.250591</td>\n",
       "      <td>4.805081</td>\n",
       "      <td>2.13</td>\n",
       "      <td>33266.145490</td>\n",
       "      <td>1.030730e+06</td>\n",
       "    </tr>\n",
       "    <tr>\n",
       "      <th>4998</th>\n",
       "      <td>68001.331235</td>\n",
       "      <td>5.534388</td>\n",
       "      <td>7.130144</td>\n",
       "      <td>5.44</td>\n",
       "      <td>42625.620156</td>\n",
       "      <td>1.198657e+06</td>\n",
       "    </tr>\n",
       "    <tr>\n",
       "      <th>4999</th>\n",
       "      <td>65510.581804</td>\n",
       "      <td>5.992305</td>\n",
       "      <td>6.792336</td>\n",
       "      <td>4.07</td>\n",
       "      <td>46501.283803</td>\n",
       "      <td>1.298950e+06</td>\n",
       "    </tr>\n",
       "  </tbody>\n",
       "</table>\n",
       "<p>4865 rows × 6 columns</p>\n",
       "</div>"
      ],
      "text/plain": [
       "      Avg. Area Income  Avg. Area House Age  Avg. Area Number of Rooms  \\\n",
       "0         79545.458574             5.682861                   7.009188   \n",
       "1         79248.642455             6.002900                   6.730821   \n",
       "2         61287.067179             5.865890                   8.512727   \n",
       "3         63345.240046             7.188236                   5.586729   \n",
       "4         59982.197226             5.040555                   7.839388   \n",
       "...                ...                  ...                        ...   \n",
       "4995      60567.944140             7.830362                   6.137356   \n",
       "4996      78491.275435             6.999135                   6.576763   \n",
       "4997      63390.686886             7.250591                   4.805081   \n",
       "4998      68001.331235             5.534388                   7.130144   \n",
       "4999      65510.581804             5.992305                   6.792336   \n",
       "\n",
       "      Avg. Area Number of Bedrooms  Area Population         Price  \n",
       "0                             4.09     23086.800503  1.059034e+06  \n",
       "1                             3.09     40173.072174  1.505891e+06  \n",
       "2                             5.13     36882.159400  1.058988e+06  \n",
       "3                             3.26     34310.242831  1.260617e+06  \n",
       "4                             4.23     26354.109472  6.309435e+05  \n",
       "...                            ...              ...           ...  \n",
       "4995                          3.46     22837.361035  1.060194e+06  \n",
       "4996                          4.02     25616.115489  1.482618e+06  \n",
       "4997                          2.13     33266.145490  1.030730e+06  \n",
       "4998                          5.44     42625.620156  1.198657e+06  \n",
       "4999                          4.07     46501.283803  1.298950e+06  \n",
       "\n",
       "[4865 rows x 6 columns]"
      ]
     },
     "execution_count": 10,
     "metadata": {},
     "output_type": "execute_result"
    }
   ],
   "source": [
    "q1 = Data2.quantile(.25)\n",
    "q3 = Data2.quantile(.75)\n",
    "iqr = q3 - q1\n",
    "lower = q1 - iqr*1.5\n",
    "upper = q3 + iqr*1.5\n",
    "for l,u,col in zip(lower,upper,Data2.columns):\n",
    "    Data2 = Data2[(Data2[col]>l) & (Data2[col]<u)]\n",
    "Data2"
   ]
  },
  {
   "cell_type": "code",
   "execution_count": 11,
   "id": "252571f2",
   "metadata": {},
   "outputs": [],
   "source": [
    "from sklearn.linear_model import LinearRegression"
   ]
  },
  {
   "cell_type": "code",
   "execution_count": 12,
   "id": "eb4cd7dc",
   "metadata": {},
   "outputs": [],
   "source": [
    "from sklearn.model_selection import train_test_split"
   ]
  },
  {
   "cell_type": "code",
   "execution_count": 13,
   "id": "6c854b5c",
   "metadata": {},
   "outputs": [],
   "source": [
    "x=Data2.iloc[:,0:5].values"
   ]
  },
  {
   "cell_type": "code",
   "execution_count": 14,
   "id": "e10a986c",
   "metadata": {},
   "outputs": [],
   "source": [
    "y=Data2[\"Price\"].values"
   ]
  },
  {
   "cell_type": "code",
   "execution_count": 15,
   "id": "e3e69e26",
   "metadata": {},
   "outputs": [],
   "source": [
    "from sklearn.preprocessing import MinMaxScaler\n",
    "scaler=MinMaxScaler()"
   ]
  },
  {
   "cell_type": "code",
   "execution_count": 16,
   "id": "0f8db525",
   "metadata": {},
   "outputs": [],
   "source": [
    "X=scaler.fit_transform(x)"
   ]
  },
  {
   "cell_type": "code",
   "execution_count": 17,
   "id": "6b1f16cd",
   "metadata": {},
   "outputs": [],
   "source": [
    "X_train, X_test, y_train, y_test = train_test_split(X, y, test_size=0.1, random_state=0)"
   ]
  },
  {
   "cell_type": "code",
   "execution_count": 18,
   "id": "7c07d98a",
   "metadata": {},
   "outputs": [],
   "source": [
    "regressor=LinearRegression()"
   ]
  },
  {
   "cell_type": "code",
   "execution_count": 19,
   "id": "76284886",
   "metadata": {},
   "outputs": [],
   "source": [
    "model=regressor.fit(X_train,y_train)"
   ]
  },
  {
   "cell_type": "code",
   "execution_count": 20,
   "id": "5bfb1f7c",
   "metadata": {},
   "outputs": [],
   "source": [
    "y_pred=model.predict(X_test)"
   ]
  },
  {
   "cell_type": "code",
   "execution_count": 21,
   "id": "507393d9",
   "metadata": {},
   "outputs": [
    {
     "data": {
      "text/plain": [
       "array([1222344.20849926,  616056.96004191, 1066279.87934336,\n",
       "       1361007.56184711, 1095597.9438335 , 1053484.8692002 ,\n",
       "       1426832.04892582,  914325.02915127,  992053.0502239 ,\n",
       "        764955.49820708, 1553395.56206258, 1054770.98064753,\n",
       "       1336377.82525371, 1176111.78829563,  772310.22782615,\n",
       "       1129975.81711789, 1244440.13470232,  777718.89864854,\n",
       "       1511839.35459062, 1643291.72247874, 1543357.45351051,\n",
       "        702321.75232142, 1133126.48386135, 1647278.68498366,\n",
       "       1159147.10911951, 1400111.49672765, 1217061.25364758,\n",
       "       1443907.74738373,  959625.53017718, 1820189.53280409,\n",
       "       1578136.16530262, 1130537.99274975,  738760.74743133,\n",
       "       1128842.20902835, 1675557.27123079,  956435.26333485,\n",
       "       1587015.35686945, 1242114.10087935,  908616.48262409,\n",
       "       1074296.70364502,  781524.17637894,  890112.54931789,\n",
       "        378466.42018394, 1529452.06177674,  864132.0330832 ,\n",
       "        980161.6274097 , 1673294.24619638, 1413105.49480349,\n",
       "        988746.42058673, 1882978.90043677, 1783534.83882736,\n",
       "        882057.17059284, 1204753.00205501, 1502451.11371471,\n",
       "        998702.03712414, 1146321.58139925, 1159749.09027882,\n",
       "       1403176.42908767,  830286.70657853, 1106705.01109054,\n",
       "       1197975.08547024, 1034366.77773182, 1043281.2900747 ,\n",
       "        961311.72917377, 1509929.83247383, 1578760.80839776,\n",
       "       1955253.71145832, 1148066.8130584 , 1034779.18973316,\n",
       "       1279464.64669701, 1819900.63664371,  917351.13559377,\n",
       "       1491538.49925012, 1015010.5384041 , 1046721.97617325,\n",
       "       1079745.11850214, 1400609.03407812, 1243838.63422872,\n",
       "       1111360.30281169, 1104109.03502936,  878862.74568447,\n",
       "       1342997.64492884,  735952.16888946, 1153435.09235302,\n",
       "       1245967.79942199, 1186357.17904467, 1197515.45422484,\n",
       "        850010.18155273,  631712.72378149, 1760734.69036401,\n",
       "       1357575.85161511, 1676172.30485552,  991892.31748425,\n",
       "       1244789.02200199, 1415073.61418119, 1169547.52118279,\n",
       "        813726.1138316 , 1170573.76986364,  818057.89530272,\n",
       "       1168822.81732408,  398909.50986006,  749383.07255541,\n",
       "        913978.57338762, 1499988.87952261, 1748782.80864004,\n",
       "       1961715.86669203,  815190.65258117, 1243239.00340404,\n",
       "        866328.13132786,  756216.57575761, 1022709.69550666,\n",
       "       1045348.22995365, 1069292.32685915, 1031121.81445725,\n",
       "       1088548.82655388, 1029869.76367719, 1404036.26566165,\n",
       "       1767399.28994795, 1553854.43419996, 2115010.70359761,\n",
       "       1270543.46419449, 1524257.70627576, 1470427.37547844,\n",
       "        896246.14622435, 1706110.85999305, 1796009.50404616,\n",
       "       1530068.01207528, 1480888.80423216,  560598.53843096,\n",
       "       1405933.01869925, 1462875.98382238, 1029273.27859557,\n",
       "       1496776.83013235, 1424994.37541585, 1153470.43974786,\n",
       "       1249173.69117552,  407718.93821549,  671343.94179278,\n",
       "       1137465.33591705,  670734.67395129,  756319.73404427,\n",
       "       1308465.24004301, 1688093.25745804, 1454699.23141047,\n",
       "       1518454.0603521 , 1294750.36776435,  549947.24824706,\n",
       "       1882806.93439519, 1115721.68697909, 1815920.44980542,\n",
       "        983537.51077923, 1268125.83776299,  960904.99535186,\n",
       "       1196254.11806773, 1170720.89365429, 1039517.5335082 ,\n",
       "       1416648.29730638,  615055.67579218,  752168.06886998,\n",
       "       1919053.52694713, 1820439.35291089, 2096977.79018592,\n",
       "       1389366.7180879 , 1245400.95531081, 1554634.9946986 ,\n",
       "       1414286.72242412, 1056225.68560119,  858088.71878696,\n",
       "       1642164.21611555,  886124.72564037, 1843720.6478657 ,\n",
       "        786407.94511743,  549167.93985545, 1200401.98894193,\n",
       "       1324022.02462432, 1675702.22325349, 1056518.91326635,\n",
       "       1261927.41888063, 1115935.27740048, 1752112.60416309,\n",
       "       1168444.88222469, 1114779.24664095, 1379386.382933  ,\n",
       "        814879.20628909, 1165875.3063766 , 1236044.31555322,\n",
       "        831762.7909034 , 1084945.39966764,  933609.25807039,\n",
       "       1717570.52990384, 1119542.31060882,  860399.34519322,\n",
       "       1357797.90952389, 1032663.00307792, 1250882.29175707,\n",
       "       1903813.79265875, 1367619.92344288, 1194357.40592395,\n",
       "       1194083.24724985, 1613037.5089371 , 1575680.03697001,\n",
       "       1055772.87078099, 1116730.86697073, 1123753.73420143,\n",
       "       1568181.61446469, 1215608.53105597, 1132983.95515514,\n",
       "       1129613.01002033, 1141916.52543889,  717273.18525768,\n",
       "       1172514.72247399, 1340983.25035903,  927677.42231952,\n",
       "       1239940.04216681,  943309.44860395, 1408550.41679305,\n",
       "       1680017.24042077, 1058517.80992559, 1679204.74093321,\n",
       "       1636080.39040031,  980983.21095236, 1156308.16875631,\n",
       "       1072891.08260679, 1548322.50070918,  997827.25377521,\n",
       "       1487855.53796449, 1195601.96234849,  752950.60680069,\n",
       "       1206931.65045262, 1171989.71780841, 1066659.38298835,\n",
       "        812858.35695109,  914136.5197753 , 1622261.67185764,\n",
       "       1053815.09690961, 1525601.79137374, 1105105.05331964,\n",
       "        889385.90158426, 1494241.22619044, 1189069.10469094,\n",
       "        959243.60844873, 1935172.99502019, 1706689.93975441,\n",
       "       1877402.31972695, 1630952.88355637, 1070818.73136844,\n",
       "       1405399.85509825, 1251663.85126218,  752800.14752517,\n",
       "       1621035.90271747, 1377939.77450812, 1082588.72736545,\n",
       "       1078713.22702937, 1697501.60460523,  893541.45694964,\n",
       "       1099788.69803186, 1384787.45743007, 1055548.67577611,\n",
       "       1200888.77269115, 1447181.82631216, 1088699.39928965,\n",
       "       1364306.768681  , 1120349.77312863,  426906.18286889,\n",
       "        943668.48237963, 1279051.66941566,  815593.76380871,\n",
       "        666745.67143124, 1626368.66731315, 1029354.49485583,\n",
       "        861657.39942536, 1436995.20045099, 1347234.0930271 ,\n",
       "       1282258.09329308, 1557276.06443164, 1483808.33683067,\n",
       "       1290324.64861995,  566645.85783216, 1115394.3931956 ,\n",
       "       1166673.19506452, 1325149.91983277, 1696717.10729937,\n",
       "        980177.30513713, 1035976.95286971,  942166.50902854,\n",
       "        876763.58405998, 1453312.4679298 , 1214689.18370447,\n",
       "        534305.13233493, 1759180.04363531, 1233484.4765781 ,\n",
       "       1232014.52710861, 1419345.60730258,  861321.58069247,\n",
       "       1299673.74199534, 1448081.25117198, 1161457.8482887 ,\n",
       "       1110525.98867392, 1115466.58507141, 1723706.75852286,\n",
       "       1676770.33057392,  935061.30929776, 1536208.36613512,\n",
       "       1748864.71452689,  820611.47085954, 1203094.08995403,\n",
       "       1501103.49298848,  530764.67246378, 1660295.79595833,\n",
       "       1115013.14745176, 1497377.1808673 ,  787039.64467942,\n",
       "        999408.25105722,  576356.03188201,  497579.44658687,\n",
       "       1412449.47858682, 1357710.96492256, 1086072.07106142,\n",
       "       1785374.29206076,  975384.18142202,  842777.99247272,\n",
       "       1685217.10494443, 1088222.42090221, 1228362.74689607,\n",
       "       1383766.08194538, 1448774.97058143, 1532533.61093849,\n",
       "       1292287.0948427 , 1560838.45023281, 1345296.55443818,\n",
       "       1148720.90500372, 1228517.20720762,  875799.24734427,\n",
       "       1407291.85081419, 1539329.31884732, 2084883.79040242,\n",
       "       1723729.65516442,  616738.20833153, 1639099.3776237 ,\n",
       "       1425632.5419742 , 1419536.25894992, 1313304.58773627,\n",
       "       1016871.41491422, 1629345.78653286, 1156786.0838811 ,\n",
       "       1480674.79882514,  705444.1167909 , 1139014.19364814,\n",
       "        962551.03714019, 1732196.21679656,  577168.27394391,\n",
       "       1353854.47752056, 1300133.96670156,  649223.50608184,\n",
       "       1525690.99505673, 1186019.79611357,  977024.11019634,\n",
       "       1065150.78675382, 1612717.55309934, 1335830.79241959,\n",
       "       1321257.25057209, 1243501.65083871, 1864670.07406907,\n",
       "       1688642.67854484, 2050988.49667927,  831168.83367385,\n",
       "       1113936.63783162, 1076334.10254553, 1656080.08908926,\n",
       "       1300433.57542035, 1640990.37846293, 1004070.99827455,\n",
       "       1869113.61107494, 1720258.77712467, 1883469.24354168,\n",
       "        720080.23205289, 1149327.65596551, 1122083.25116265,\n",
       "        763869.66666471, 1008712.57507319, 1036782.24488433,\n",
       "        691318.24014128, 1154917.39361164, 1109059.0536268 ,\n",
       "       1050239.90384046,  637189.95937123, 1825858.25507054,\n",
       "       1137060.06698538, 1073183.75984163, 1553311.16067977,\n",
       "       1179992.28867516, 1023943.77512424,  357250.68777413,\n",
       "        857697.12549109, 1317467.58202265, 1179983.44163519,\n",
       "       1357208.23773923,  989643.03138901,  987447.77748579,\n",
       "       1333995.85209835, 1197929.7431865 , 1031367.58851648,\n",
       "       1412806.28576495, 1730662.39293344,  924271.79112833,\n",
       "        839426.12217998, 1524621.72825147, 1638969.26904583,\n",
       "       1562950.32191938, 1522083.94415309, 1020268.85454366,\n",
       "       1289190.76263952, 1124635.93162859, 1090826.37448631,\n",
       "       1123765.3462532 , 1134125.64569782,  944288.91101362,\n",
       "       1250494.73970569, 1023965.40341073, 1336172.19406627,\n",
       "       1500472.82722154, 1122320.93263019,  873509.18952667,\n",
       "        980141.21910767, 1112314.30291141, 1832230.09273646,\n",
       "       1270502.87052885, 1789607.52613989,  886036.12951409,\n",
       "       1388530.15668361, 1282365.46202368, 1257101.59289231,\n",
       "       1566471.00832536,  867044.95964192, 1249223.83104405,\n",
       "       1584615.57383898, 1352993.62478585, 1517693.1062015 ,\n",
       "       1174311.55591112, 1027311.5076734 , 1099917.43416653,\n",
       "       1726364.39797808, 1168993.73758356, 1235475.55001904,\n",
       "       1398310.20014229, 1518478.03272609, 1922406.38297236,\n",
       "       1563193.09711859, 1302664.41725796, 1584167.85130265,\n",
       "        768751.9005441 ,  781213.06692762,  985006.98618932,\n",
       "       1462989.49082137, 1096173.16778533, 1375633.3727061 ,\n",
       "       1779874.75376281,  864483.75849638,  745996.33058405,\n",
       "       1381417.24950466, 1537329.56953615, 1291759.39266068,\n",
       "       1710924.36652354,  967868.51456034, 2054897.00926892,\n",
       "       1343484.72673607, 1049007.01665591, 1507035.87371331,\n",
       "       1056993.64859716, 1005843.91699313, 1108406.78591683,\n",
       "       1078534.5530804 ,  944491.03955521, 1502447.91672879,\n",
       "       1148508.02525255, 1592175.51246226, 1288069.22644892,\n",
       "       1638265.39452366,  812059.0590565 , 1035171.0596408 ,\n",
       "       1363319.8464196 , 1587122.36870817, 1247645.40971081,\n",
       "       1025439.43393527, 1296467.99364115, 1317040.737321  ,\n",
       "       1165877.66861295])"
      ]
     },
     "execution_count": 21,
     "metadata": {},
     "output_type": "execute_result"
    }
   ],
   "source": [
    "y_test"
   ]
  },
  {
   "cell_type": "code",
   "execution_count": 22,
   "id": "ceda33ed",
   "metadata": {},
   "outputs": [],
   "source": [
    "y_pred=pd.Series(y_pred)"
   ]
  },
  {
   "cell_type": "code",
   "execution_count": 23,
   "id": "38b671b8",
   "metadata": {},
   "outputs": [],
   "source": [
    "a={\"Actual\":y_test,\"Predicted\":y_pred}"
   ]
  },
  {
   "cell_type": "code",
   "execution_count": 24,
   "id": "da40d07e",
   "metadata": {},
   "outputs": [
    {
     "name": "stdout",
     "output_type": "stream",
     "text": [
      "Price Prediction\n"
     ]
    },
    {
     "data": {
      "text/html": [
       "<div>\n",
       "<style scoped>\n",
       "    .dataframe tbody tr th:only-of-type {\n",
       "        vertical-align: middle;\n",
       "    }\n",
       "\n",
       "    .dataframe tbody tr th {\n",
       "        vertical-align: top;\n",
       "    }\n",
       "\n",
       "    .dataframe thead th {\n",
       "        text-align: right;\n",
       "    }\n",
       "</style>\n",
       "<table border=\"1\" class=\"dataframe\">\n",
       "  <thead>\n",
       "    <tr style=\"text-align: right;\">\n",
       "      <th></th>\n",
       "      <th>Actual</th>\n",
       "      <th>Predicted</th>\n",
       "    </tr>\n",
       "  </thead>\n",
       "  <tbody>\n",
       "    <tr>\n",
       "      <th>0</th>\n",
       "      <td>1.222344e+06</td>\n",
       "      <td>1.128409e+06</td>\n",
       "    </tr>\n",
       "    <tr>\n",
       "      <th>1</th>\n",
       "      <td>6.160570e+05</td>\n",
       "      <td>7.636933e+05</td>\n",
       "    </tr>\n",
       "    <tr>\n",
       "      <th>2</th>\n",
       "      <td>1.066280e+06</td>\n",
       "      <td>1.101954e+06</td>\n",
       "    </tr>\n",
       "    <tr>\n",
       "      <th>3</th>\n",
       "      <td>1.361008e+06</td>\n",
       "      <td>1.501012e+06</td>\n",
       "    </tr>\n",
       "    <tr>\n",
       "      <th>4</th>\n",
       "      <td>1.095598e+06</td>\n",
       "      <td>1.212417e+06</td>\n",
       "    </tr>\n",
       "    <tr>\n",
       "      <th>...</th>\n",
       "      <td>...</td>\n",
       "      <td>...</td>\n",
       "    </tr>\n",
       "    <tr>\n",
       "      <th>482</th>\n",
       "      <td>1.247645e+06</td>\n",
       "      <td>1.218569e+06</td>\n",
       "    </tr>\n",
       "    <tr>\n",
       "      <th>483</th>\n",
       "      <td>1.025439e+06</td>\n",
       "      <td>9.290413e+05</td>\n",
       "    </tr>\n",
       "    <tr>\n",
       "      <th>484</th>\n",
       "      <td>1.296468e+06</td>\n",
       "      <td>1.381000e+06</td>\n",
       "    </tr>\n",
       "    <tr>\n",
       "      <th>485</th>\n",
       "      <td>1.317041e+06</td>\n",
       "      <td>1.230328e+06</td>\n",
       "    </tr>\n",
       "    <tr>\n",
       "      <th>486</th>\n",
       "      <td>1.165878e+06</td>\n",
       "      <td>1.222889e+06</td>\n",
       "    </tr>\n",
       "  </tbody>\n",
       "</table>\n",
       "<p>487 rows × 2 columns</p>\n",
       "</div>"
      ],
      "text/plain": [
       "           Actual     Predicted\n",
       "0    1.222344e+06  1.128409e+06\n",
       "1    6.160570e+05  7.636933e+05\n",
       "2    1.066280e+06  1.101954e+06\n",
       "3    1.361008e+06  1.501012e+06\n",
       "4    1.095598e+06  1.212417e+06\n",
       "..            ...           ...\n",
       "482  1.247645e+06  1.218569e+06\n",
       "483  1.025439e+06  9.290413e+05\n",
       "484  1.296468e+06  1.381000e+06\n",
       "485  1.317041e+06  1.230328e+06\n",
       "486  1.165878e+06  1.222889e+06\n",
       "\n",
       "[487 rows x 2 columns]"
      ]
     },
     "execution_count": 24,
     "metadata": {},
     "output_type": "execute_result"
    }
   ],
   "source": [
    "print(\"Price Prediction\")\n",
    "PRICES=pd.DataFrame(a)\n",
    "PRICES"
   ]
  },
  {
   "cell_type": "code",
   "execution_count": 25,
   "id": "283b389e",
   "metadata": {},
   "outputs": [
    {
     "data": {
      "text/plain": [
       "array([1554577.69216278, 1098168.86243845, 1470040.33618285, ...,\n",
       "       1330487.89810449, 2025992.07790796, 1834465.03291717])"
      ]
     },
     "execution_count": 25,
     "metadata": {},
     "output_type": "execute_result"
    }
   ],
   "source": [
    "model.predict(X_train)"
   ]
  },
  {
   "cell_type": "code",
   "execution_count": 26,
   "id": "17df3266",
   "metadata": {},
   "outputs": [
    {
     "data": {
      "text/plain": [
       "array([1458912.58449862, 1160526.05774741, 1394518.41546763, ...,\n",
       "       1273631.26707271, 2019424.22226426, 1877073.57477198])"
      ]
     },
     "execution_count": 26,
     "metadata": {},
     "output_type": "execute_result"
    }
   ],
   "source": [
    "y_train"
   ]
  },
  {
   "cell_type": "code",
   "execution_count": 27,
   "id": "cec7cd1c",
   "metadata": {},
   "outputs": [],
   "source": [
    "from sklearn import metrics"
   ]
  },
  {
   "cell_type": "code",
   "execution_count": 28,
   "id": "ad93d94d",
   "metadata": {},
   "outputs": [
    {
     "data": {
      "text/plain": [
       "0.9062097698550972"
      ]
     },
     "execution_count": 28,
     "metadata": {},
     "output_type": "execute_result"
    }
   ],
   "source": [
    "metrics.r2_score(y_test,y_pred)"
   ]
  },
  {
   "cell_type": "code",
   "execution_count": 29,
   "id": "1ad58b3c",
   "metadata": {},
   "outputs": [],
   "source": [
    "R2=metrics.r2_score(y_test,y_pred)"
   ]
  },
  {
   "cell_type": "code",
   "execution_count": 30,
   "id": "faa64bfe",
   "metadata": {},
   "outputs": [
    {
     "data": {
      "text/plain": [
       "102894.70585344634"
      ]
     },
     "execution_count": 30,
     "metadata": {},
     "output_type": "execute_result"
    }
   ],
   "source": [
    "np.sqrt(metrics.mean_squared_error(y_test,y_pred))"
   ]
  },
  {
   "cell_type": "code",
   "execution_count": 31,
   "id": "26ed3b3d",
   "metadata": {},
   "outputs": [
    {
     "data": {
      "text/plain": [
       "81882.04112532386"
      ]
     },
     "execution_count": 31,
     "metadata": {},
     "output_type": "execute_result"
    }
   ],
   "source": [
    "metrics.mean_absolute_error(y_test,y_pred)"
   ]
  },
  {
   "cell_type": "code",
   "execution_count": 32,
   "id": "455a9cb0",
   "metadata": {},
   "outputs": [
    {
     "data": {
      "text/html": [
       "<div>\n",
       "<style scoped>\n",
       "    .dataframe tbody tr th:only-of-type {\n",
       "        vertical-align: middle;\n",
       "    }\n",
       "\n",
       "    .dataframe tbody tr th {\n",
       "        vertical-align: top;\n",
       "    }\n",
       "\n",
       "    .dataframe thead th {\n",
       "        text-align: right;\n",
       "    }\n",
       "</style>\n",
       "<table border=\"1\" class=\"dataframe\">\n",
       "  <thead>\n",
       "    <tr style=\"text-align: right;\">\n",
       "      <th></th>\n",
       "      <th>0</th>\n",
       "    </tr>\n",
       "  </thead>\n",
       "  <tbody>\n",
       "    <tr>\n",
       "      <th>0</th>\n",
       "      <td>1.128409e+06</td>\n",
       "    </tr>\n",
       "    <tr>\n",
       "      <th>1</th>\n",
       "      <td>7.636933e+05</td>\n",
       "    </tr>\n",
       "    <tr>\n",
       "      <th>2</th>\n",
       "      <td>1.101954e+06</td>\n",
       "    </tr>\n",
       "    <tr>\n",
       "      <th>3</th>\n",
       "      <td>1.501012e+06</td>\n",
       "    </tr>\n",
       "    <tr>\n",
       "      <th>4</th>\n",
       "      <td>1.212417e+06</td>\n",
       "    </tr>\n",
       "    <tr>\n",
       "      <th>...</th>\n",
       "      <td>...</td>\n",
       "    </tr>\n",
       "    <tr>\n",
       "      <th>482</th>\n",
       "      <td>1.218569e+06</td>\n",
       "    </tr>\n",
       "    <tr>\n",
       "      <th>483</th>\n",
       "      <td>9.290413e+05</td>\n",
       "    </tr>\n",
       "    <tr>\n",
       "      <th>484</th>\n",
       "      <td>1.381000e+06</td>\n",
       "    </tr>\n",
       "    <tr>\n",
       "      <th>485</th>\n",
       "      <td>1.230328e+06</td>\n",
       "    </tr>\n",
       "    <tr>\n",
       "      <th>486</th>\n",
       "      <td>1.222889e+06</td>\n",
       "    </tr>\n",
       "  </tbody>\n",
       "</table>\n",
       "<p>487 rows × 1 columns</p>\n",
       "</div>"
      ],
      "text/plain": [
       "                0\n",
       "0    1.128409e+06\n",
       "1    7.636933e+05\n",
       "2    1.101954e+06\n",
       "3    1.501012e+06\n",
       "4    1.212417e+06\n",
       "..            ...\n",
       "482  1.218569e+06\n",
       "483  9.290413e+05\n",
       "484  1.381000e+06\n",
       "485  1.230328e+06\n",
       "486  1.222889e+06\n",
       "\n",
       "[487 rows x 1 columns]"
      ]
     },
     "execution_count": 32,
     "metadata": {},
     "output_type": "execute_result"
    }
   ],
   "source": [
    "pd.DataFrame(y_pred)"
   ]
  },
  {
   "cell_type": "code",
   "execution_count": 33,
   "id": "5d604d87",
   "metadata": {},
   "outputs": [
    {
     "data": {
      "text/plain": [
       "array([1222344.20849926,  616056.96004191, 1066279.87934336,\n",
       "       1361007.56184711, 1095597.9438335 , 1053484.8692002 ,\n",
       "       1426832.04892582,  914325.02915127,  992053.0502239 ,\n",
       "        764955.49820708, 1553395.56206258, 1054770.98064753,\n",
       "       1336377.82525371, 1176111.78829563,  772310.22782615,\n",
       "       1129975.81711789, 1244440.13470232,  777718.89864854,\n",
       "       1511839.35459062, 1643291.72247874, 1543357.45351051,\n",
       "        702321.75232142, 1133126.48386135, 1647278.68498366,\n",
       "       1159147.10911951, 1400111.49672765, 1217061.25364758,\n",
       "       1443907.74738373,  959625.53017718, 1820189.53280409,\n",
       "       1578136.16530262, 1130537.99274975,  738760.74743133,\n",
       "       1128842.20902835, 1675557.27123079,  956435.26333485,\n",
       "       1587015.35686945, 1242114.10087935,  908616.48262409,\n",
       "       1074296.70364502,  781524.17637894,  890112.54931789,\n",
       "        378466.42018394, 1529452.06177674,  864132.0330832 ,\n",
       "        980161.6274097 , 1673294.24619638, 1413105.49480349,\n",
       "        988746.42058673, 1882978.90043677, 1783534.83882736,\n",
       "        882057.17059284, 1204753.00205501, 1502451.11371471,\n",
       "        998702.03712414, 1146321.58139925, 1159749.09027882,\n",
       "       1403176.42908767,  830286.70657853, 1106705.01109054,\n",
       "       1197975.08547024, 1034366.77773182, 1043281.2900747 ,\n",
       "        961311.72917377, 1509929.83247383, 1578760.80839776,\n",
       "       1955253.71145832, 1148066.8130584 , 1034779.18973316,\n",
       "       1279464.64669701, 1819900.63664371,  917351.13559377,\n",
       "       1491538.49925012, 1015010.5384041 , 1046721.97617325,\n",
       "       1079745.11850214, 1400609.03407812, 1243838.63422872,\n",
       "       1111360.30281169, 1104109.03502936,  878862.74568447,\n",
       "       1342997.64492884,  735952.16888946, 1153435.09235302,\n",
       "       1245967.79942199, 1186357.17904467, 1197515.45422484,\n",
       "        850010.18155273,  631712.72378149, 1760734.69036401,\n",
       "       1357575.85161511, 1676172.30485552,  991892.31748425,\n",
       "       1244789.02200199, 1415073.61418119, 1169547.52118279,\n",
       "        813726.1138316 , 1170573.76986364,  818057.89530272,\n",
       "       1168822.81732408,  398909.50986006,  749383.07255541,\n",
       "        913978.57338762, 1499988.87952261, 1748782.80864004,\n",
       "       1961715.86669203,  815190.65258117, 1243239.00340404,\n",
       "        866328.13132786,  756216.57575761, 1022709.69550666,\n",
       "       1045348.22995365, 1069292.32685915, 1031121.81445725,\n",
       "       1088548.82655388, 1029869.76367719, 1404036.26566165,\n",
       "       1767399.28994795, 1553854.43419996, 2115010.70359761,\n",
       "       1270543.46419449, 1524257.70627576, 1470427.37547844,\n",
       "        896246.14622435, 1706110.85999305, 1796009.50404616,\n",
       "       1530068.01207528, 1480888.80423216,  560598.53843096,\n",
       "       1405933.01869925, 1462875.98382238, 1029273.27859557,\n",
       "       1496776.83013235, 1424994.37541585, 1153470.43974786,\n",
       "       1249173.69117552,  407718.93821549,  671343.94179278,\n",
       "       1137465.33591705,  670734.67395129,  756319.73404427,\n",
       "       1308465.24004301, 1688093.25745804, 1454699.23141047,\n",
       "       1518454.0603521 , 1294750.36776435,  549947.24824706,\n",
       "       1882806.93439519, 1115721.68697909, 1815920.44980542,\n",
       "        983537.51077923, 1268125.83776299,  960904.99535186,\n",
       "       1196254.11806773, 1170720.89365429, 1039517.5335082 ,\n",
       "       1416648.29730638,  615055.67579218,  752168.06886998,\n",
       "       1919053.52694713, 1820439.35291089, 2096977.79018592,\n",
       "       1389366.7180879 , 1245400.95531081, 1554634.9946986 ,\n",
       "       1414286.72242412, 1056225.68560119,  858088.71878696,\n",
       "       1642164.21611555,  886124.72564037, 1843720.6478657 ,\n",
       "        786407.94511743,  549167.93985545, 1200401.98894193,\n",
       "       1324022.02462432, 1675702.22325349, 1056518.91326635,\n",
       "       1261927.41888063, 1115935.27740048, 1752112.60416309,\n",
       "       1168444.88222469, 1114779.24664095, 1379386.382933  ,\n",
       "        814879.20628909, 1165875.3063766 , 1236044.31555322,\n",
       "        831762.7909034 , 1084945.39966764,  933609.25807039,\n",
       "       1717570.52990384, 1119542.31060882,  860399.34519322,\n",
       "       1357797.90952389, 1032663.00307792, 1250882.29175707,\n",
       "       1903813.79265875, 1367619.92344288, 1194357.40592395,\n",
       "       1194083.24724985, 1613037.5089371 , 1575680.03697001,\n",
       "       1055772.87078099, 1116730.86697073, 1123753.73420143,\n",
       "       1568181.61446469, 1215608.53105597, 1132983.95515514,\n",
       "       1129613.01002033, 1141916.52543889,  717273.18525768,\n",
       "       1172514.72247399, 1340983.25035903,  927677.42231952,\n",
       "       1239940.04216681,  943309.44860395, 1408550.41679305,\n",
       "       1680017.24042077, 1058517.80992559, 1679204.74093321,\n",
       "       1636080.39040031,  980983.21095236, 1156308.16875631,\n",
       "       1072891.08260679, 1548322.50070918,  997827.25377521,\n",
       "       1487855.53796449, 1195601.96234849,  752950.60680069,\n",
       "       1206931.65045262, 1171989.71780841, 1066659.38298835,\n",
       "        812858.35695109,  914136.5197753 , 1622261.67185764,\n",
       "       1053815.09690961, 1525601.79137374, 1105105.05331964,\n",
       "        889385.90158426, 1494241.22619044, 1189069.10469094,\n",
       "        959243.60844873, 1935172.99502019, 1706689.93975441,\n",
       "       1877402.31972695, 1630952.88355637, 1070818.73136844,\n",
       "       1405399.85509825, 1251663.85126218,  752800.14752517,\n",
       "       1621035.90271747, 1377939.77450812, 1082588.72736545,\n",
       "       1078713.22702937, 1697501.60460523,  893541.45694964,\n",
       "       1099788.69803186, 1384787.45743007, 1055548.67577611,\n",
       "       1200888.77269115, 1447181.82631216, 1088699.39928965,\n",
       "       1364306.768681  , 1120349.77312863,  426906.18286889,\n",
       "        943668.48237963, 1279051.66941566,  815593.76380871,\n",
       "        666745.67143124, 1626368.66731315, 1029354.49485583,\n",
       "        861657.39942536, 1436995.20045099, 1347234.0930271 ,\n",
       "       1282258.09329308, 1557276.06443164, 1483808.33683067,\n",
       "       1290324.64861995,  566645.85783216, 1115394.3931956 ,\n",
       "       1166673.19506452, 1325149.91983277, 1696717.10729937,\n",
       "        980177.30513713, 1035976.95286971,  942166.50902854,\n",
       "        876763.58405998, 1453312.4679298 , 1214689.18370447,\n",
       "        534305.13233493, 1759180.04363531, 1233484.4765781 ,\n",
       "       1232014.52710861, 1419345.60730258,  861321.58069247,\n",
       "       1299673.74199534, 1448081.25117198, 1161457.8482887 ,\n",
       "       1110525.98867392, 1115466.58507141, 1723706.75852286,\n",
       "       1676770.33057392,  935061.30929776, 1536208.36613512,\n",
       "       1748864.71452689,  820611.47085954, 1203094.08995403,\n",
       "       1501103.49298848,  530764.67246378, 1660295.79595833,\n",
       "       1115013.14745176, 1497377.1808673 ,  787039.64467942,\n",
       "        999408.25105722,  576356.03188201,  497579.44658687,\n",
       "       1412449.47858682, 1357710.96492256, 1086072.07106142,\n",
       "       1785374.29206076,  975384.18142202,  842777.99247272,\n",
       "       1685217.10494443, 1088222.42090221, 1228362.74689607,\n",
       "       1383766.08194538, 1448774.97058143, 1532533.61093849,\n",
       "       1292287.0948427 , 1560838.45023281, 1345296.55443818,\n",
       "       1148720.90500372, 1228517.20720762,  875799.24734427,\n",
       "       1407291.85081419, 1539329.31884732, 2084883.79040242,\n",
       "       1723729.65516442,  616738.20833153, 1639099.3776237 ,\n",
       "       1425632.5419742 , 1419536.25894992, 1313304.58773627,\n",
       "       1016871.41491422, 1629345.78653286, 1156786.0838811 ,\n",
       "       1480674.79882514,  705444.1167909 , 1139014.19364814,\n",
       "        962551.03714019, 1732196.21679656,  577168.27394391,\n",
       "       1353854.47752056, 1300133.96670156,  649223.50608184,\n",
       "       1525690.99505673, 1186019.79611357,  977024.11019634,\n",
       "       1065150.78675382, 1612717.55309934, 1335830.79241959,\n",
       "       1321257.25057209, 1243501.65083871, 1864670.07406907,\n",
       "       1688642.67854484, 2050988.49667927,  831168.83367385,\n",
       "       1113936.63783162, 1076334.10254553, 1656080.08908926,\n",
       "       1300433.57542035, 1640990.37846293, 1004070.99827455,\n",
       "       1869113.61107494, 1720258.77712467, 1883469.24354168,\n",
       "        720080.23205289, 1149327.65596551, 1122083.25116265,\n",
       "        763869.66666471, 1008712.57507319, 1036782.24488433,\n",
       "        691318.24014128, 1154917.39361164, 1109059.0536268 ,\n",
       "       1050239.90384046,  637189.95937123, 1825858.25507054,\n",
       "       1137060.06698538, 1073183.75984163, 1553311.16067977,\n",
       "       1179992.28867516, 1023943.77512424,  357250.68777413,\n",
       "        857697.12549109, 1317467.58202265, 1179983.44163519,\n",
       "       1357208.23773923,  989643.03138901,  987447.77748579,\n",
       "       1333995.85209835, 1197929.7431865 , 1031367.58851648,\n",
       "       1412806.28576495, 1730662.39293344,  924271.79112833,\n",
       "        839426.12217998, 1524621.72825147, 1638969.26904583,\n",
       "       1562950.32191938, 1522083.94415309, 1020268.85454366,\n",
       "       1289190.76263952, 1124635.93162859, 1090826.37448631,\n",
       "       1123765.3462532 , 1134125.64569782,  944288.91101362,\n",
       "       1250494.73970569, 1023965.40341073, 1336172.19406627,\n",
       "       1500472.82722154, 1122320.93263019,  873509.18952667,\n",
       "        980141.21910767, 1112314.30291141, 1832230.09273646,\n",
       "       1270502.87052885, 1789607.52613989,  886036.12951409,\n",
       "       1388530.15668361, 1282365.46202368, 1257101.59289231,\n",
       "       1566471.00832536,  867044.95964192, 1249223.83104405,\n",
       "       1584615.57383898, 1352993.62478585, 1517693.1062015 ,\n",
       "       1174311.55591112, 1027311.5076734 , 1099917.43416653,\n",
       "       1726364.39797808, 1168993.73758356, 1235475.55001904,\n",
       "       1398310.20014229, 1518478.03272609, 1922406.38297236,\n",
       "       1563193.09711859, 1302664.41725796, 1584167.85130265,\n",
       "        768751.9005441 ,  781213.06692762,  985006.98618932,\n",
       "       1462989.49082137, 1096173.16778533, 1375633.3727061 ,\n",
       "       1779874.75376281,  864483.75849638,  745996.33058405,\n",
       "       1381417.24950466, 1537329.56953615, 1291759.39266068,\n",
       "       1710924.36652354,  967868.51456034, 2054897.00926892,\n",
       "       1343484.72673607, 1049007.01665591, 1507035.87371331,\n",
       "       1056993.64859716, 1005843.91699313, 1108406.78591683,\n",
       "       1078534.5530804 ,  944491.03955521, 1502447.91672879,\n",
       "       1148508.02525255, 1592175.51246226, 1288069.22644892,\n",
       "       1638265.39452366,  812059.0590565 , 1035171.0596408 ,\n",
       "       1363319.8464196 , 1587122.36870817, 1247645.40971081,\n",
       "       1025439.43393527, 1296467.99364115, 1317040.737321  ,\n",
       "       1165877.66861295])"
      ]
     },
     "execution_count": 33,
     "metadata": {},
     "output_type": "execute_result"
    }
   ],
   "source": [
    "y_test"
   ]
  },
  {
   "cell_type": "code",
   "execution_count": 34,
   "id": "64aa9bea",
   "metadata": {},
   "outputs": [],
   "source": [
    "y_train_predict=model.predict(X_train)"
   ]
  },
  {
   "cell_type": "code",
   "execution_count": 38,
   "id": "8ead28de",
   "metadata": {},
   "outputs": [
    {
     "name": "stdout",
     "output_type": "stream",
     "text": [
      "Train R2\n"
     ]
    },
    {
     "data": {
      "text/plain": [
       "0.9123984375265151"
      ]
     },
     "execution_count": 38,
     "metadata": {},
     "output_type": "execute_result"
    }
   ],
   "source": [
    "print(\"Train R2\")\n",
    "metrics.r2_score(y_train,y_train_predict)"
   ]
  },
  {
   "cell_type": "code",
   "execution_count": 37,
   "id": "ee19d686",
   "metadata": {},
   "outputs": [
    {
     "data": {
      "text/plain": [
       "0.9062097698550972"
      ]
     },
     "execution_count": 37,
     "metadata": {},
     "output_type": "execute_result"
    }
   ],
   "source": [
    "R2"
   ]
  },
  {
   "cell_type": "code",
   "execution_count": null,
   "id": "fa307fc3",
   "metadata": {},
   "outputs": [],
   "source": []
  }
 ],
 "metadata": {
  "kernelspec": {
   "display_name": "Python 3 (ipykernel)",
   "language": "python",
   "name": "python3"
  },
  "language_info": {
   "codemirror_mode": {
    "name": "ipython",
    "version": 3
   },
   "file_extension": ".py",
   "mimetype": "text/x-python",
   "name": "python",
   "nbconvert_exporter": "python",
   "pygments_lexer": "ipython3",
   "version": "3.9.7"
  }
 },
 "nbformat": 4,
 "nbformat_minor": 5
}
